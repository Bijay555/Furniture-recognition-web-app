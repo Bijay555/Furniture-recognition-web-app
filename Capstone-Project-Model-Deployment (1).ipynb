{
 "cells": [
  {
   "cell_type": "markdown",
   "metadata": {},
   "source": [
    "<a href=\"https://cognitiveclass.ai/\">\n",
    "    <img src=\"https://s3-api.us-geo.objectstorage.softlayer.net/cf-courses-data/CognitiveClass/CV0101/Logo/SNLogo.png\" width=\"200\" align=\"center\">\n",
    "</a>"
   ]
  },
  {
   "cell_type": "markdown",
   "metadata": {},
   "source": [
    "<h2>Deploying Your Computer Vision Model on IBM Cloud</h2>\n",
    "<p>For the capstone project of this course, you will be training a custom classifier using Watson Visual Recognition to identify furniture, in particular <b>Tables</b>, <b>Beds</b> and <b>Chairs</b>. After training your model you are then going to connect your trained custom classifier to a <b>Flask</b> app. <b>Flask</b> is a python web framework used for making web apps. You are then going to deploy your <b>Flask</b> app to IBM Cloud. Once your app is deployed on IBM Cloud you can access your <b>Flask</b> app via a webpage anywhere using a custom link.</p>\n",
    "\n",
    "<p>This link will be used by your peers to assess your project. In your web app, your peers will be able to upload an image, which will then be classified using your custom classifier you connected to the web app. Your project will be graded by how accurately your app can classify <b>Tables</b>, <b>Beds</b> and <b>Chairs</b>.<p>"
   ]
  },
  {
   "cell_type": "markdown",
   "metadata": {},
   "source": [
    "<div class=\"alert alert-block alert-info\" style=\"margin-top: 20px\">\n",
    "<font size=\"3\"><strong>Click on the links to go to the following sections:</strong></font>\n",
    "<br>\n",
    "<h2>Table of Contents</h2>\n",
    "<ol>\n",
    "    <li><a href=\"#ref1\">Part 1 - Training Your Custom Model</a></li>\n",
    "    <li><a href=\"#ref2\">Part 2 - Downloading and Configuring the Flask Web App</a></li>\n",
    "    <li><a href=\"#ref4\">Part 3 - Deploying Your Web App to IBM Cloud</a></li>\n",
    "</ol>    \n",
    "</div>"
   ]
  },
  {
   "cell_type": "markdown",
   "metadata": {},
   "source": [
    "<div style=\"background-color: #fcf2f2\">\n",
    "<h2>Note!</h2> \n",
    "<p>Since the lite plan only allows for  a maximum of 2 custom classifiers, you should not have more than 1 custom classifier running in your Watson Visual Recognition Instance. You might want to delete one of your custom classifier from your Watson Visual Recognition Instance.</p>\n",
    "<p>Log into your IBM Cloud Account with the following link - <a href=\"https://cocl.us/CV0101EN_IBM_Cloud_Login\">https://cloud.ibm.com</a></p>\n",
    "<ol>\n",
    "    <li>Click on Services</li>\n",
    "    <li>Under Services, select your Watson Visual Recognition Instance</li>\n",
    "    <li> Click on Show Credentials, and note the API Key. We will be using this API Key to connect your custom classifier to your web app </li>\n",
    "    <img src=\"https://s3-api.us-geo.objectstorage.softlayer.net/cf-courses-data/CognitiveClass/CV0101/Images/API_Key.png\" width=\"680\">\n",
    "    <li><b>(Optional)</b> Delete one of your custom classifier if you have 2 of them in your Watson Visual Recognition Instance</li>\n",
    "</ol>\n",
    "<img src=\"https://s3-api.us-geo.objectstorage.softlayer.net/cf-courses-data/CognitiveClass/CV0101/Images/Delete-Instance.png\" width=\"680\">\n",
    "</div>"
   ]
  },
  {
   "cell_type": "markdown",
   "metadata": {},
   "source": [
    "<a id=\"ref1\"></a>\n",
    "<h2>Part 1 - Training Your Custom Model</h2>\n",
    "<p>For the first part of your capstone project, you have to obtain a dataset of <b>Tables</b>, <b>Beds</b> and <b>Chairs</b>. Next, you need to create a custom classifier based upon this dataset and train your custom model with this dataset. Creating and training a custom classifier has been covered in previous modules of this course. Make sure your custom visual recognition model classifies <b>Tables</b>, <b>Beds</b> and <b>Chairs</b> correctly, because <b>25%</b> of your grade for this project will be determined by if your trained custom classifier can identify a piece of furniture correctly with a high level of confidence. Also note the classifier id for this custom classifier as you will use this to connect your web app to your custom classifier in the next part.</p>"
   ]
  },
  {
   "cell_type": "markdown",
   "metadata": {},
   "source": [
    "<a id=\"ref2\"></a>\n",
    "<h2>Part 2 - Downloading and Configuring the Flask Web App</h2>\n",
    "<p>Once you are done training your custom classifier, you will have to deploy it on the web and provide a graphical user interface for people to interact with it. <b>Flask</b> is a lightweight web framework that allows us to do that. You will connect the web app with your custom classifier and deploy the app to IBM Cloud. By deploying the app to IBM Cloud, you could share your web app with your peers by simply sharing a link with them. Make sure complete this step successfully, since another <b> 10% </b> of your grade for the capstone project depends on completion of this step</p>\n",
    "\n",
    "<p>The code below downloads and unzips the Flask web app</p>"
   ]
  },
  {
   "cell_type": "markdown",
   "metadata": {},
   "source": [
    "<h3>Downloading your Flask App</h3>"
   ]
  },
  {
   "cell_type": "code",
   "execution_count": 1,
   "metadata": {},
   "outputs": [
    {
     "name": "stdout",
     "output_type": "stream",
     "text": [
      "Collecting wget\n",
      "  Downloading https://files.pythonhosted.org/packages/47/6a/62e288da7bcda82b935ff0c6cfe542970f04e29c756b0e147251b2fb251f/wget-3.2.zip\n",
      "Building wheels for collected packages: wget\n",
      "  Building wheel for wget (setup.py) ... \u001b[?25ldone\n",
      "\u001b[?25h  Stored in directory: /home/jupyterlab/.cache/pip/wheels/40/15/30/7d8f7cea2902b4db79e3fea550d7d7b85ecb27ef992b618f3f\n",
      "Successfully built wget\n",
      "Installing collected packages: wget\n",
      "Successfully installed wget-3.2\n"
     ]
    }
   ],
   "source": [
    "!pip install wget"
   ]
  },
  {
   "cell_type": "code",
   "execution_count": 2,
   "metadata": {},
   "outputs": [],
   "source": [
    "import wget, zipfile, os\n",
    "\n",
    "filename = wget.download('https://s3.us.cloud-object-storage.appdomain.cloud/cf-courses-data/CognitiveClass/CV0101/Project/CV0101EN-capstone-project-new.zip')\n",
    "with zipfile.ZipFile(filename,\"r\") as zip_ref:\n",
    "    zip_ref.extractall()"
   ]
  },
  {
   "cell_type": "markdown",
   "metadata": {},
   "source": [
    "<h3>Configuring Your Flask App</h3>\n",
    "<p>In order to deploy your custom classifier, you need to give your Flask app permission to access it.</p>\n",
    "\n",
    "<p>At this point, you should see a folder of your web app (CV0101EN-capstone-project) listed in the files directory in the left-sidebar of the JupyterLab environment. If this side menu is hidden, you can go to <code>View>View Left-Sidebar</code>. Select the <code>CV0101EN-capstone-project</code>, and click on the <code>app</code> subfolder. You will see a file called <b>config.py</b>. Fill in <code>API_KEY</code> with your Watson Visual Recognition API_KEY, and <code>CLASSIFIER_ID</code> you noted down in part 1 of this notebook</p>\n",
    "\n",
    "#### Next, you will see a file <code>manifest.yml</code> Open the file, and make sure to change your app name to a name you'd like to give your app. Do NOT change anything else"
   ]
  },
  {
   "cell_type": "markdown",
   "metadata": {},
   "source": [
    "<a id=\"ref4\"></a>\n",
    "<h2>Part 3 - Deploying Your Web App to IBM Cloud</h2>\n",
    "<p> For the last part of your capstone project, you will deploy your web app to IBM Cloud in order for your peers to access it. Your peers will upload pictures of furniture in your app and will test the accuracy of your custom trained model. You will share a custom link of your web app with your peers in order for them to test the accuracy of your model. Deploying your project successfully is worth another<b> 15% </b> of your grade. The peer evaluation is worth <b> 50% </b> of your grade\n",
    "    \n",
    "<p>In order to deploy your project to the cloud, in the code cell below replace <code>email</code> and <code>password</code> with your email and password that you use for logging in to IBM Cloud\n",
    "</p>\n",
    "\n",
    "After replacing the values of `YOUR_IBMCLOUD_EMAIL` with your IBM Cloud email and `YOUR_IBMCLOUD_PASSWORD` with your password in the cell below, press \"ctrl + enter\" to login to your IBM Cloud account from the notebook"
   ]
  },
  {
   "cell_type": "code",
   "execution_count": 4,
   "metadata": {},
   "outputs": [
    {
     "name": "stdout",
     "output_type": "stream",
     "text": [
      "API endpoint: https://cloud.ibm.com\n",
      "\n",
      "Email> bjsharma555@gmail.com\n",
      "\n",
      "Password> \n",
      "Authenticating...\n",
      "OK\n",
      "\n",
      "Targeted account Bijay Adhikari's Account (862ead835927416d8d152186d2cb9047)\n",
      "\n",
      "                      \n",
      "API endpoint:      https://cloud.ibm.com   \n",
      "Region:               \n",
      "User:              bjsharma555@gmail.com   \n",
      "Account:           Bijay Adhikari's Account (862ead835927416d8d152186d2cb9047)   \n",
      "Resource group:    No resource group targeted, use 'ibmcloud target -g RESOURCE_GROUP'   \n",
      "CF API endpoint:      \n",
      "Org:                  \n",
      "Space:                \n"
     ]
    }
   ],
   "source": [
    "%%bash\n",
    "ibmcloud config --check-version=false\n",
    "ibmcloud login --no-region\n",
    "bjsharma555@gmail.com\n",
    "Bijay523@@"
   ]
  },
  {
   "cell_type": "markdown",
   "metadata": {},
   "source": [
    "<br>\n",
    "<p>After the above cell finishes execution, run the code cell below. You will see your IBM cloud email listed under names. <b>Note the value of region corresponding to your email</b>. Your output should look something like this</p> <br>\n",
    "\n",
    "<img src=\"https://s3-api.us-geo.objectstorage.softlayer.net/cf-courses-data/CognitiveClass/CV0101/Images/Cloud_Foundry_Region.png\" width=\"680\">"
   ]
  },
  {
   "cell_type": "code",
   "execution_count": 5,
   "metadata": {},
   "outputs": [
    {
     "name": "stdout",
     "output_type": "stream",
     "text": [
      "Getting orgs in all regions as bjsharma555@gmail.com...\n",
      "Retrieving current account...\n",
      "OK\n",
      "\n",
      "Name                    Region     Account owner           Account ID                         Status   \n",
      "bjsharma555@gmail.com   us-south   bjsharma555@gmail.com   862ead835927416d8d152186d2cb9047   active   \n",
      "\n"
     ]
    }
   ],
   "source": [
    "%%bash\n",
    "ibmcloud account orgs"
   ]
  },
  {
   "cell_type": "markdown",
   "metadata": {},
   "source": [
    "<br>\n",
    "<p> Next, replace both the values of <b>REGION</b> (i.e. in <b>https://api.REGION.cf.cloud.ibm.com</b> and <b>-r REGION</b>) in the code cell below with the value you noted above. For eg, if your region was <b>eu-gb</b> you would replace both values of <b>REGION</b> with <b>eu-gb</b> in the code cell below. Next, replace <b>ORG</b> with your <b>IBM Cloud email</b>. After doing this, kindly press \"ctrl+enter\" to execute your code cell. <b>Kindly run the below code cell ONLY ONCE</b> <br>"
   ]
  },
  {
   "cell_type": "code",
   "execution_count": null,
   "metadata": {},
   "outputs": [],
   "source": []
  },
  {
   "cell_type": "code",
   "execution_count": 10,
   "metadata": {},
   "outputs": [
    {
     "name": "stdout",
     "output_type": "stream",
     "text": [
      "Switched to region us-south\n",
      "\n",
      "Targeted Cloud Foundry (https://api.us-south.cf.cloud.ibm.com)\n",
      "\n",
      "Targeted org bjsharma555@gmail.com\n",
      "\n",
      "\n",
      "                      \n",
      "API endpoint:      https://cloud.ibm.com   \n",
      "Region:            us-south   \n",
      "User:              bjsharma555@gmail.com   \n",
      "Account:           Bijay Adhikari's Account (862ead835927416d8d152186d2cb9047)   \n",
      "Resource group:    No resource group targeted, use 'ibmcloud target -g RESOURCE_GROUP'   \n",
      "CF API endpoint:   https://api.us-south.cf.cloud.ibm.com (API version: 2.147.0)   \n",
      "Org:               bjsharma555@gmail.com   \n",
      "Space:                \n",
      "Creating space comp-vision-app in org bjsharma555@gmail.com as bjsharma555@gmail.com...\n",
      "OK\n",
      "Assigning role SpaceManager to user bjsharma555@gmail.com in org bjsharma555@gmail.com / space comp-vision-app as bjsharma555@gmail.com...\n",
      "OK\n",
      "Assigning role SpaceDeveloper to user bjsharma555@gmail.com in org bjsharma555@gmail.com / space comp-vision-app as bjsharma555@gmail.com...\n",
      "OK\n",
      "Installed Cloud Foundry CLI version is '6.51.0'. Do you want to install and use latest version? [y/N] > y\n",
      "Attempting to download Cloud Foundry CLI...\n",
      " 8.53 MiB / 8.53 MiB  100.00% 0s6s\n",
      "8947378 bytes downloaded\n",
      "Saved in /home/jupyterlab/.bluemix/tmp/cf_938841082/cf-cli_6.51.0_linux_x86-64.tgz\n",
      "Installing Cloud Foundry CLI...\n",
      "OK\n",
      "Cloud Foundry CLI is successfully installed\n"
     ]
    }
   ],
   "source": [
    "%%bash\n",
    "ibmcloud target --cf-api https://api.us-south.cf.cloud.ibm.com -r us-south -o bjsharma555@gmail.com\n",
    "ibmcloud account space-create comp-vision-app\n",
    "ibmcloud cf install\n",
    "y"
   ]
  },
  {
   "cell_type": "markdown",
   "metadata": {},
   "source": [
    "<p>After the above code cell finishes execution, run the code cell below </p> "
   ]
  },
  {
   "cell_type": "code",
   "execution_count": 11,
   "metadata": {},
   "outputs": [
    {
     "name": "stdout",
     "output_type": "stream",
     "text": [
      "Targeted space comp-vision-app\n",
      "\n",
      "\n",
      "                      \n",
      "API endpoint:      https://cloud.ibm.com   \n",
      "Region:            us-south   \n",
      "User:              bjsharma555@gmail.com   \n",
      "Account:           Bijay Adhikari's Account (862ead835927416d8d152186d2cb9047)   \n",
      "Resource group:    No resource group targeted, use 'ibmcloud target -g RESOURCE_GROUP'   \n",
      "CF API endpoint:   https://api.us-south.cf.cloud.ibm.com (API version: 2.147.0)   \n",
      "Org:               bjsharma555@gmail.com   \n",
      "Space:             comp-vision-app   \n"
     ]
    }
   ],
   "source": [
    "%%bash\n",
    "ibmcloud target -s comp-vision-app"
   ]
  },
  {
   "cell_type": "markdown",
   "metadata": {},
   "source": [
    "<p><b>Important:</b> Please go to (/resources/labs/CV0101EN/CV0101EN-capstone-project/app) which appears in the right side of this notebook. Then open \"Manifest.yml\" file to modify XXX-computer-vision-app by replacing XXX with your name)<p>\n",
    "<p> Finally, run the code cell below to push your app to IBM Cloud. <b>Kindly run the code cell below. The cell might take a few minutes to run</b> </p>"
   ]
  },
  {
   "cell_type": "code",
   "execution_count": null,
   "metadata": {},
   "outputs": [],
   "source": [
    "\n"
   ]
  },
  {
   "cell_type": "code",
   "execution_count": 12,
   "metadata": {},
   "outputs": [
    {
     "name": "stdout",
     "output_type": "stream",
     "text": [
      "Invoking 'cf push'...\n",
      "\n",
      "Pushing from manifest to org bjsharma555@gmail.com / space comp-vision-app as bjsharma555@gmail.com...\n",
      "Using manifest file /resources/labs/CV0101EN/CV0101EN-capstone-project/app/manifest.yml\n",
      "Getting app info...\n",
      "Creating app with these attributes...\n",
      "+ name:       bijay-comp-vision-app\n",
      "  path:       /resources/labs/CV0101EN/CV0101EN-capstone-project/app\n",
      "+ memory:     128M\n",
      "  routes:\n",
      "+   bijay-comp-vision-app.mybluemix.net\n",
      "\n",
      "Creating app bijay-comp-vision-app...\n",
      "Mapping routes...\n",
      "Comparing local files to remote cache...\n",
      "Packaging files to upload...\n",
      "Uploading files...\n",
      " 17.71 KiB / 17.71 KiB  100.00% 1s\n",
      "\n",
      "Waiting for API to complete processing files...\n",
      "\n",
      "Staging app and tracing logs...\n",
      "   Downloading liberty-for-java_v3_44-20200430-1451...\n",
      "   Downloading liberty-for-java...\n",
      "   Downloading sdk-for-nodejs...\n",
      "   Downloading nginx_buildpack...\n",
      "   Downloading r_buildpack...\n",
      "   Downloaded liberty-for-java\n",
      "   Downloading sdk-for-nodejs_v4_2-20200227-1649...\n",
      "   Downloaded liberty-for-java_v3_44-20200430-1451\n",
      "   Downloading sdk-for-nodejs_v4_2_1-20200420-1206...\n",
      "   Downloaded sdk-for-nodejs\n",
      "   Downloading dotnet-core_v2_5-20191209-1920...\n",
      "   Downloaded nginx_buildpack\n",
      "   Downloading dotnet-core_v2_6-20200424-1047...\n",
      "   Downloaded r_buildpack\n",
      "   Downloading liberty-for-java_v3_43-20200406-1631...\n",
      "   Downloaded sdk-for-nodejs_v4_2-20200227-1649\n",
      "   Downloading java_buildpack...\n",
      "   Downloaded dotnet-core_v2_5-20191209-1920\n",
      "   Downloading dotnet-core...\n",
      "   Downloaded sdk-for-nodejs_v4_2_1-20200420-1206\n",
      "   Downloading swift_buildpack...\n",
      "   Downloaded dotnet-core_v2_6-20200424-1047\n",
      "   Downloading noop-buildpack...\n",
      "   Downloaded liberty-for-java_v3_43-20200406-1631\n",
      "   Downloading xpages_buildpack...\n",
      "   Downloaded java_buildpack\n",
      "   Downloading swift_buildpack_v2_0_18-20190303-1915...\n",
      "   Downloaded noop-buildpack\n",
      "   Downloading swift_buildpack_v2_0_20-20190401-2122...\n",
      "   Downloaded swift_buildpack\n",
      "   Downloading staticfile_buildpack...\n",
      "   Downloaded xpages_buildpack\n",
      "   Downloading python_buildpack...\n",
      "   Downloaded dotnet-core\n",
      "   Downloading ruby_buildpack...\n",
      "   Downloaded swift_buildpack_v2_0_18-20190303-1915\n",
      "   Downloading nodejs_buildpack...\n",
      "   Downloaded staticfile_buildpack\n",
      "   Downloading go_buildpack...\n",
      "   Downloaded swift_buildpack_v2_0_20-20190401-2122\n",
      "   Downloading binary_buildpack...\n",
      "   Downloaded python_buildpack\n",
      "   Downloading php_buildpack...\n",
      "   Downloaded ruby_buildpack\n",
      "   Downloading swift_buildpack_cflinuxfs3_v2_1_0-20190404-1206...\n",
      "   Downloaded nodejs_buildpack\n",
      "   Downloaded go_buildpack\n",
      "   Downloaded binary_buildpack\n",
      "   Downloaded php_buildpack\n",
      "   Downloaded swift_buildpack_cflinuxfs3_v2_1_0-20190404-1206\n",
      "   Cell 38d6a95e-da3b-4687-b91a-cb4f3e6a3a52 creating container for instance af18804d-8713-4dc0-9235-5332200216bf\n",
      "   Cell 38d6a95e-da3b-4687-b91a-cb4f3e6a3a52 successfully created container for instance af18804d-8713-4dc0-9235-5332200216bf\n",
      "   Downloading app package...\n",
      "   Downloaded app package (17.7K)\n",
      "   -----> Python Buildpack version 1.7.12\n",
      "   -----> Supplying Python\n",
      "   -----> Installing python 3.6.10\n",
      "          Download [https://buildpacks.cloudfoundry.org/dependencies/python/python-3.6.10-linux-x64-cflinuxfs3-3bb086eb.tgz]\n",
      "   -----> Installing pip-pop 0.1.4\n",
      "          Download [https://buildpacks.cloudfoundry.org/dependencies/manual-binaries/pip-pop/pip-pop-0.1.4-0a3b0f1b.tar.gz]\n",
      "   -----> Running Pip Install\n",
      "          Collecting Flask==1.0.3 (from -r /tmp/app/requirements.txt (line 1))\n",
      "            Downloading https://files.pythonhosted.org/packages/9a/74/670ae9737d14114753b8c8fdf2e8bd212a05d3b361ab15b44937dfd40985/Flask-1.0.3-py2.py3-none-any.whl (92kB)\n",
      "          Collecting Flask-WTF==0.14.2 (from -r /tmp/app/requirements.txt (line 2))\n",
      "            Downloading https://files.pythonhosted.org/packages/60/3a/58c629472d10539ae5167dc7c1fecfa95dd7d0b7864623931e3776438a24/Flask_WTF-0.14.2-py2.py3-none-any.whl\n",
      "          Collecting ibm-watson==4.0.1 (from -r /tmp/app/requirements.txt (line 3))\n",
      "            Downloading https://files.pythonhosted.org/packages/d0/30/6e444a420b533b53e6b8ab4318ce1a9b19662067515aca0351403bdb615c/ibm-watson-4.0.1.tar.gz (297kB)\n",
      "          Collecting python-dotenv==0.10.3 (from -r /tmp/app/requirements.txt (line 4))\n",
      "            Downloading https://files.pythonhosted.org/packages/57/c8/5b14d5cffe7bb06bedf9d66c4562bf90330d3d35e7f0266928c370d9dd6d/python_dotenv-0.10.3-py2.py3-none-any.whl\n",
      "          Collecting werkzeug==0.16.1 (from -r /tmp/app/requirements.txt (line 5))\n",
      "            Downloading https://files.pythonhosted.org/packages/c2/e4/a859d2fe516f466642fa5c6054fd9646271f9da26b0cac0d2f37fc858c8f/Werkzeug-0.16.1-py2.py3-none-any.whl (327kB)\n",
      "          Collecting itsdangerous>=0.24 (from Flask==1.0.3->-r /tmp/app/requirements.txt (line 1))\n",
      "            Downloading https://files.pythonhosted.org/packages/76/ae/44b03b253d6fade317f32c24d100b3b35c2239807046a4c953c7b89fa49e/itsdangerous-1.1.0-py2.py3-none-any.whl\n",
      "          Collecting click>=5.1 (from Flask==1.0.3->-r /tmp/app/requirements.txt (line 1))\n",
      "            Downloading https://files.pythonhosted.org/packages/d2/3d/fa76db83bf75c4f8d338c2fd15c8d33fdd7ad23a9b5e57eb6c5de26b430e/click-7.1.2-py2.py3-none-any.whl (82kB)\n",
      "          Collecting Jinja2>=2.10 (from Flask==1.0.3->-r /tmp/app/requirements.txt (line 1))\n",
      "            Downloading https://files.pythonhosted.org/packages/30/9e/f663a2aa66a09d838042ae1a2c5659828bb9b41ea3a6efa20a20fd92b121/Jinja2-2.11.2-py2.py3-none-any.whl (125kB)\n",
      "          Collecting WTForms (from Flask-WTF==0.14.2->-r /tmp/app/requirements.txt (line 2))\n",
      "            Downloading https://files.pythonhosted.org/packages/f0/1b/af089b3d54955e0a3b0045ddd40773c2ef5dc7375ccffd09366ce469b755/WTForms-2.3.1-py2.py3-none-any.whl (169kB)\n",
      "          Collecting requests<3.0,>=2.0 (from ibm-watson==4.0.1->-r /tmp/app/requirements.txt (line 3))\n",
      "            Downloading https://files.pythonhosted.org/packages/1a/70/1935c770cb3be6e3a8b78ced23d7e0f3b187f5cbfab4749523ed65d7c9b1/requests-2.23.0-py2.py3-none-any.whl (58kB)\n",
      "          Collecting python_dateutil>=2.5.3 (from ibm-watson==4.0.1->-r /tmp/app/requirements.txt (line 3))\n",
      "            Downloading https://files.pythonhosted.org/packages/d4/70/d60450c3dd48ef87586924207ae8907090de0b306af2bce5d134d78615cb/python_dateutil-2.8.1-py2.py3-none-any.whl (227kB)\n",
      "          Collecting websocket-client==0.48.0 (from ibm-watson==4.0.1->-r /tmp/app/requirements.txt (line 3))\n",
      "            Downloading https://files.pythonhosted.org/packages/8a/a1/72ef9aa26cfe1a75cee09fc1957e4723add9de098c15719416a1ee89386b/websocket_client-0.48.0-py2.py3-none-any.whl (198kB)\n",
      "          Collecting ibm_cloud_sdk_core==1.0.0 (from ibm-watson==4.0.1->-r /tmp/app/requirements.txt (line 3))\n",
      "            Downloading https://files.pythonhosted.org/packages/e8/43/a13a5956c69b7becce7a0df6d2340c1e32322df3b39f57a3b33dc4645a34/ibm-cloud-sdk-core-1.0.0.tar.gz\n",
      "          Collecting MarkupSafe>=0.23 (from Jinja2>=2.10->Flask==1.0.3->-r /tmp/app/requirements.txt (line 1))\n",
      "            Downloading https://files.pythonhosted.org/packages/b2/5f/23e0023be6bb885d00ffbefad2942bc51a620328ee910f64abe5a8d18dd1/MarkupSafe-1.1.1-cp36-cp36m-manylinux1_x86_64.whl\n",
      "          Collecting chardet<4,>=3.0.2 (from requests<3.0,>=2.0->ibm-watson==4.0.1->-r /tmp/app/requirements.txt (line 3))\n",
      "            Downloading https://files.pythonhosted.org/packages/bc/a9/01ffebfb562e4274b6487b4bb1ddec7ca55ec7510b22e4c51f14098443b8/chardet-3.0.4-py2.py3-none-any.whl (133kB)\n",
      "          Collecting urllib3!=1.25.0,!=1.25.1,<1.26,>=1.21.1 (from requests<3.0,>=2.0->ibm-watson==4.0.1->-r /tmp/app/requirements.txt (line 3))\n",
      "            Downloading https://files.pythonhosted.org/packages/e1/e5/df302e8017440f111c11cc41a6b432838672f5a70aa29227bf58149dc72f/urllib3-1.25.9-py2.py3-none-any.whl (126kB)\n",
      "          Collecting idna<3,>=2.5 (from requests<3.0,>=2.0->ibm-watson==4.0.1->-r /tmp/app/requirements.txt (line 3))\n",
      "            Downloading https://files.pythonhosted.org/packages/89/e3/afebe61c546d18fb1709a61bee788254b40e736cff7271c7de5de2dc4128/idna-2.9-py2.py3-none-any.whl (58kB)\n",
      "          Collecting certifi>=2017.4.17 (from requests<3.0,>=2.0->ibm-watson==4.0.1->-r /tmp/app/requirements.txt (line 3))\n",
      "            Downloading https://files.pythonhosted.org/packages/57/2b/26e37a4b034800c960a00c4e1b3d9ca5d7014e983e6e729e33ea2f36426c/certifi-2020.4.5.1-py2.py3-none-any.whl (157kB)\n",
      "          Collecting six>=1.5 (from python_dateutil>=2.5.3->ibm-watson==4.0.1->-r /tmp/app/requirements.txt (line 3))\n",
      "            Downloading https://files.pythonhosted.org/packages/65/eb/1f97cb97bfc2390a276969c6fae16075da282f5058082d4cb10c6c5c1dba/six-1.14.0-py2.py3-none-any.whl\n",
      "          Collecting PyJWT>=1.7.1 (from ibm_cloud_sdk_core==1.0.0->ibm-watson==4.0.1->-r /tmp/app/requirements.txt (line 3))\n",
      "            Downloading https://files.pythonhosted.org/packages/87/8b/6a9f14b5f781697e51259d81657e6048fd31a113229cf346880bb7545565/PyJWT-1.7.1-py2.py3-none-any.whl\n",
      "          Installing collected packages: itsdangerous, werkzeug, click, MarkupSafe, Jinja2, Flask, WTForms, Flask-WTF, chardet, urllib3, idna, certifi, requests, six, python-dateutil, websocket-client, PyJWT, ibm-cloud-sdk-core, ibm-watson, python-dotenv\n",
      "            The script flask is installed in '/tmp/contents492628399/deps/0/python/bin' which is not on PATH.\n",
      "            Consider adding this directory to PATH or, if you prefer to suppress this warning, use --no-warn-script-location.\n",
      "            The script chardetect is installed in '/tmp/contents492628399/deps/0/python/bin' which is not on PATH.\n",
      "            Consider adding this directory to PATH or, if you prefer to suppress this warning, use --no-warn-script-location.\n",
      "            The script pyjwt is installed in '/tmp/contents492628399/deps/0/python/bin' which is not on PATH.\n",
      "            Consider adding this directory to PATH or, if you prefer to suppress this warning, use --no-warn-script-location.\n",
      "            Running setup.py install for ibm-cloud-sdk-core: started\n",
      "              Running setup.py install for ibm-cloud-sdk-core: finished with status 'done'\n",
      "            Running setup.py install for ibm-watson: started\n",
      "              Running setup.py install for ibm-watson: finished with status 'done'\n",
      "            The script dotenv is installed in '/tmp/contents492628399/deps/0/python/bin' which is not on PATH.\n",
      "            Consider adding this directory to PATH or, if you prefer to suppress this warning, use --no-warn-script-location.\n",
      "          Successfully installed Flask-1.0.3 Flask-WTF-0.14.2 Jinja2-2.11.2 MarkupSafe-1.1.1 PyJWT-1.7.1 WTForms-2.3.1 certifi-2020.4.5.1 chardet-3.0.4 click-7.1.2 ibm-cloud-sdk-core-1.0.0 ibm-watson-4.0.1 idna-2.9 itsdangerous-1.1.0 python-dateutil-2.8.1 python-dotenv-0.10.3 requests-2.23.0 six-1.14.0 urllib3-1.25.9 websocket-client-0.48.0 werkzeug-0.16.1\n",
      "          You are using pip version 18.1, however version 20.1 is available.\n",
      "          You should consider upgrading via the 'pip install --upgrade pip' command.\n",
      "   Exit status 0\n",
      "   Uploading droplet, build artifacts cache...\n",
      "   Uploading droplet...\n",
      "   Uploading build artifacts cache...\n",
      "   Uploaded build artifacts cache (50.3M)\n",
      "   Uploaded droplet (51.8M)\n",
      "   Uploading complete\n",
      "   Cell 38d6a95e-da3b-4687-b91a-cb4f3e6a3a52 stopping instance af18804d-8713-4dc0-9235-5332200216bf\n",
      "   Cell 38d6a95e-da3b-4687-b91a-cb4f3e6a3a52 destroying container for instance af18804d-8713-4dc0-9235-5332200216bf\n",
      "   Cell 38d6a95e-da3b-4687-b91a-cb4f3e6a3a52 successfully destroyed container for instance af18804d-8713-4dc0-9235-5332200216bf\n",
      "\n",
      "Waiting for app to start...\n",
      "\n",
      "name:              bijay-comp-vision-app\n",
      "requested state:   started\n",
      "routes:            bijay-comp-vision-app.mybluemix.net\n",
      "last uploaded:     Sat 16 May 15:30:46 UTC 2020\n",
      "stack:             cflinuxfs3\n",
      "buildpacks:        python\n",
      "\n",
      "type:            web\n",
      "instances:       1/1\n",
      "memory usage:    128M\n",
      "start command:   python3 server.py\n",
      "     state     since                  cpu    memory      disk      details\n",
      "#0   running   2020-05-16T15:31:10Z   0.0%   0 of 128M   0 of 1G   \n",
      "\n"
     ]
    }
   ],
   "source": [
    "%%bash\n",
    "cd /resources/labs/CV0101EN/CV0101EN-capstone-project/app\n",
    "ibmcloud app push  \n",
    "\n"
   ]
  },
  {
   "cell_type": "code",
   "execution_count": null,
   "metadata": {},
   "outputs": [],
   "source": []
  },
  {
   "cell_type": "code",
   "execution_count": null,
   "metadata": {},
   "outputs": [],
   "source": []
  },
  {
   "cell_type": "markdown",
   "metadata": {},
   "source": [
    "<br>After the above code cell finishes execution, you will see the following output towards the bottom. Kindly **_note_** the route as this will be the route you will be sharing with your peers for peer evaluation\n",
    "\n",
    "\n",
    "<img src=\"https://s3-api.us-geo.objectstorage.softlayer.net/cf-courses-data/CognitiveClass/CV0101/Images/app-routes.png\" width=\"680\">\n",
    "\n",
    "<br>\n",
    "Log into your IBM Cloud Account with the following link - <a href=\"https://cocl.us/CV0101EN_IBM_Cloud_Login\">https://cloud.ibm.com</a>\n",
    "\n",
    "<br>\n",
    "<p> After logging in, Click on Cloud Foundry Apps and you will see your web app deployed to IBM Cloud. Click on it, and click on <b>Visit App URL</b> </p>\n",
    "\n",
    "<br>\n",
    "<img src=\"https://s3-api.us-geo.objectstorage.softlayer.net/cf-courses-data/CognitiveClass/CV0101/Images/cv_project_1.png\" width=\"680\">\n",
    "\n",
    "<img src=\"https://s3-api.us-geo.objectstorage.softlayer.net/cf-courses-data/CognitiveClass/CV0101/Images/cv_project_2.png\" width=\"680\">\n",
    "\n",
    "<img src=\"https://s3-api.us-geo.objectstorage.softlayer.net/cf-courses-data/CognitiveClass/CV0101/Images/cv_project_3.png\" width=\"680\">\n",
    "\n"
   ]
  },
  {
   "cell_type": "markdown",
   "metadata": {},
   "source": [
    "<p>The <b>Visit App URL</b> link in cloud foundry contains the url to your Visual Recognition app</p>\n",
    "\n",
    "<p>The url takes you to a webpage where you can upload a picture of a <b>Table</b>, <b>Bed</b> or <b>Chair</b> and it should classify the picture in their respective category with a confidence score.</p>\n",
    "\n",
    "<img src=\"https://s3-api.us-geo.objectstorage.softlayer.net/cf-courses-data/CognitiveClass/CV0101/Images/cv_project_4.png\" width=\"680\">\n"
   ]
  },
  {
   "cell_type": "markdown",
   "metadata": {},
   "source": [
    "\n",
    "<br>\n",
    "<p> <b> You can share this url (should be the same as the route that you noted earlier) with your peers for them to evaluate your custom classifier </b> </p>\n",
    "<h1>Note!</h1>\n",
    "<p>You app will be only able to classify image file in .gif, .jpg, .png and .tif format, and will not return any result if the image is in any other format.</p>\n",
    "    \n",
    "<h4>Kindly upload a single image at a time to the web app<h4>"
   ]
  },
  {
   "cell_type": "markdown",
   "metadata": {},
   "source": [
    "<h1>Note!</h1>\n",
    "\n",
    "If for some reason you want to redeploy your app with certain changes, **_ONLY_** execute the following cell again. **There is no need to rerun the entire notebook**\n",
    "\n",
    "<br>\n",
    "<img src=\"https://s3-api.us-geo.objectstorage.softlayer.net/cf-courses-data/CognitiveClass/CV0101/Images/redeploy-app.png\" width=\"680\">\n",
    "\n",
    "<br>\n",
    "Sample scenarios when you might want to redeploy your app:\n",
    "<br>\n",
    "<ol>\n",
    "<li> You entered the api key / classifier id of your classifier incorrectly in <code>config.py</code> </li>\n",
    "<li> You want to redeploy your app with a new name. If you redeploy your app with a new name, kindly make sure you are sharing the correct url for the web app with your peers</li>\n",
    "</ol>\n"
   ]
  },
  {
   "cell_type": "markdown",
   "metadata": {},
   "source": [
    "<h2>Thank you for completing this notebook!</h2>"
   ]
  },
  {
   "cell_type": "markdown",
   "metadata": {},
   "source": [
    "<div class=\"alert alert-block alert-info\" style=\"margin-top: 20px\">\n",
    "<h2>Get IBM Watson Studio free of charge!</h2>\n",
    "<p><a href=\"https://cocl.us/NotebooksPython101bottom\"><img src=\"https://s3-api.us-geo.objectstorage.softlayer.net/cf-courses-data/CognitiveClass/CV0101/Logo/BottomAd.png\" width=\"750\" align=\"center\"></a></p>\n",
    "</div>"
   ]
  },
  {
   "cell_type": "markdown",
   "metadata": {},
   "source": [
    "<h3>About the Authors:</h3>\n",
    "<p>This lab was written by <a href=\"https://www.linkedin.com/in/sacchitchadha/\" target=\"_blank\" >Sacchit Chadha</a>, and <a href=\"https://www.linkedin.com/in/yi-leng-yao-84451275/\" target=\"_blank\" >Yi Yao</a> and revised by Nayef Abou Tayoun</p>\n",
    "<p><a href=\"https://www.linkedin.com/in/sacchitchadha/\" target=\"_blank\">Sacchit Chadha</a> is a Software Engineer at IBM, and is currently pursuing a Bachelors Degree in Computer Science from the University of Waterloo. His work at IBM focused on Computer Vision, Cloud Computing and Blockchain.</p>\n",
    "<p><a href=\"https://www.linkedin.com/in/yi-leng-yao-84451275/\" target=\"_blank\">Yi Yao</a> is a Data Scientist and Software Engineer at IBM, and holds a Masters in Statistics. His research focused on Cloud Computing, Machine Learning and Computer Vision.</p>\n",
    "<p>Nayef Abou Tayoun is a Cognitive Data Scientist at IBM, and pursuing a Master's degree in Artificial Intelligence.</p>"
   ]
  },
  {
   "cell_type": "markdown",
   "metadata": {},
   "source": [
    "<hr>\n",
    "<p>Copyright &copy; 2019 IBM Developer Skills Network. This notebook and its source code are released under the terms of the <a href=\"https://cognitiveclass.ai/mit-license/\">MIT License</a>.</p>"
   ]
  }
 ],
 "metadata": {
  "kernelspec": {
   "display_name": "Python 3",
   "language": "python",
   "name": "python3"
  },
  "language_info": {
   "codemirror_mode": {
    "name": "ipython",
    "version": 3
   },
   "file_extension": ".py",
   "mimetype": "text/x-python",
   "name": "python",
   "nbconvert_exporter": "python",
   "pygments_lexer": "ipython3",
   "version": "3.7.3"
  }
 },
 "nbformat": 4,
 "nbformat_minor": 4
}
